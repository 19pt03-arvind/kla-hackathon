{
 "cells": [
  {
   "cell_type": "markdown",
   "metadata": {},
   "source": [
    "### KLA HACKATHON\n"
   ]
  },
  {
   "cell_type": "markdown",
   "metadata": {},
   "source": [
    "#### Milestone 1\n"
   ]
  },
  {
   "cell_type": "code",
   "execution_count": 72,
   "metadata": {},
   "outputs": [
    {
     "name": "stdout",
     "output_type": "stream",
     "text": [
      "{'M1A_Workflow': {'Type': 'Flow', 'Execution': 'Sequential', 'Activities': {'TaskA': {'Type': 'Task', 'Function': 'TimeFunction', 'Inputs': {'FunctionInput': 'TaskA_Input', 'ExecutionTime': '1'}}, 'TaskB': {'Type': 'Task', 'Function': 'TimeFunction', 'Inputs': {'FunctionInput': 'TaskB_Input', 'ExecutionTime': '2'}}, 'FlowA': {'Type': 'Flow', 'Execution': 'Sequential', 'Activities': {'TaskC': {'Type': 'Task', 'Function': 'TimeFunction', 'Inputs': {'FunctionInput': 'TaskC_Input', 'ExecutionTime': '3'}}, 'TaskD': {'Type': 'Task', 'Function': 'TimeFunction', 'Inputs': {'FunctionInput': 'TaskD_Input', 'ExecutionTime': '4'}}}}}}}\n"
     ]
    }
   ],
   "source": [
    "import yaml\n",
    "from yaml.loader import SafeLoader\n",
    "\n",
    "with open('/home/arvindputhucode/Desktop/kla-hackathon-2022/DataSet/Milestone1/Milestone1B.yaml') as f:\n",
    "    data = yaml.load(f, Loader=SafeLoader)\n",
    "    print(data)"
   ]
  },
  {
   "cell_type": "code",
   "execution_count": 73,
   "metadata": {},
   "outputs": [],
   "source": [
    "import datetime\n",
    "import time\n",
    "\n"
   ]
  },
  {
   "cell_type": "code",
   "execution_count": 74,
   "metadata": {},
   "outputs": [],
   "source": [
    "def file_write(text):\n",
    "    with open('/home/arvindputhucode/Desktop/kla-hackathon-2022/1a_output.txt','a') as f:\n",
    "        f.write(text)\n",
    "        f.write('\\n')\n",
    "    \n",
    "\n",
    "\n"
   ]
  },
  {
   "cell_type": "code",
   "execution_count": 75,
   "metadata": {},
   "outputs": [],
   "source": [
    "def seq(task,parent_name):\n",
    "    print('parent task',parent_name,'\\n',task)  \n",
    "    if(task['Type']=='Task'):\n",
    "        \n",
    "        file_write(f\"{datetime.datetime.now()};{str(parent_name)} Entry\")\n",
    "        \n",
    "        inps=[]\n",
    "     #   print(\"task\",task['Inputs'],task,'\\n')\n",
    "        for key,val in task['Inputs'].items():\n",
    "            inps.append(val)\n",
    "        inpp=\"(\"\n",
    "        for indx,i in enumerate(inps):\n",
    "            inpp+=i\n",
    "            if(indx!=len(inps)-1):\n",
    "                inpp+=\", \"\n",
    "        inpp+=\")\"\n",
    "\n",
    "        file_write(f\"{datetime.datetime.now()};{str(parent_name)} Executing {task['Function']} {inpp}\")\n",
    "\n",
    "        if(task['Function']=='TimeFunction'):\n",
    "            \n",
    "            time.sleep(int(task['Inputs']['ExecutionTime']))\n",
    "        file_write(f\"{datetime.datetime.now()};{str(parent_name)} Exit\")\n",
    "\n",
    "        \n",
    "        return\n",
    "    file_write(f\"{datetime.datetime.now()};{str(parent_name)} Entry\")\n",
    "    for vars in task['Activities']:\n",
    "        print('vars string',vars,task['Activities'][vars],'\\n')\n",
    "\n",
    "        seq(task=task['Activities'][vars],parent_name=parent_name+'.'+vars)\n",
    "    file_write(f\"{datetime.datetime.now()};{str(parent_name)} Exit\")\n",
    "    \n",
    "        \n"
   ]
  },
  {
   "cell_type": "code",
   "execution_count": 76,
   "metadata": {},
   "outputs": [
    {
     "name": "stdout",
     "output_type": "stream",
     "text": [
      "parent task M1A_Workflow \n",
      " {'Type': 'Flow', 'Execution': 'Sequential', 'Activities': {'TaskA': {'Type': 'Task', 'Function': 'TimeFunction', 'Inputs': {'FunctionInput': 'TaskA_Input', 'ExecutionTime': '1'}}, 'TaskB': {'Type': 'Task', 'Function': 'TimeFunction', 'Inputs': {'FunctionInput': 'TaskB_Input', 'ExecutionTime': '2'}}, 'FlowA': {'Type': 'Flow', 'Execution': 'Sequential', 'Activities': {'TaskC': {'Type': 'Task', 'Function': 'TimeFunction', 'Inputs': {'FunctionInput': 'TaskC_Input', 'ExecutionTime': '3'}}, 'TaskD': {'Type': 'Task', 'Function': 'TimeFunction', 'Inputs': {'FunctionInput': 'TaskD_Input', 'ExecutionTime': '4'}}}}}}\n",
      "vars string TaskA {'Type': 'Task', 'Function': 'TimeFunction', 'Inputs': {'FunctionInput': 'TaskA_Input', 'ExecutionTime': '1'}} \n",
      "\n",
      "parent task M1A_Workflow.TaskA \n",
      " {'Type': 'Task', 'Function': 'TimeFunction', 'Inputs': {'FunctionInput': 'TaskA_Input', 'ExecutionTime': '1'}}\n",
      "vars string TaskB {'Type': 'Task', 'Function': 'TimeFunction', 'Inputs': {'FunctionInput': 'TaskB_Input', 'ExecutionTime': '2'}} \n",
      "\n",
      "parent task M1A_Workflow.TaskB \n",
      " {'Type': 'Task', 'Function': 'TimeFunction', 'Inputs': {'FunctionInput': 'TaskB_Input', 'ExecutionTime': '2'}}\n",
      "vars string FlowA {'Type': 'Flow', 'Execution': 'Sequential', 'Activities': {'TaskC': {'Type': 'Task', 'Function': 'TimeFunction', 'Inputs': {'FunctionInput': 'TaskC_Input', 'ExecutionTime': '3'}}, 'TaskD': {'Type': 'Task', 'Function': 'TimeFunction', 'Inputs': {'FunctionInput': 'TaskD_Input', 'ExecutionTime': '4'}}}} \n",
      "\n",
      "parent task M1A_Workflow.FlowA \n",
      " {'Type': 'Flow', 'Execution': 'Sequential', 'Activities': {'TaskC': {'Type': 'Task', 'Function': 'TimeFunction', 'Inputs': {'FunctionInput': 'TaskC_Input', 'ExecutionTime': '3'}}, 'TaskD': {'Type': 'Task', 'Function': 'TimeFunction', 'Inputs': {'FunctionInput': 'TaskD_Input', 'ExecutionTime': '4'}}}}\n",
      "vars string TaskC {'Type': 'Task', 'Function': 'TimeFunction', 'Inputs': {'FunctionInput': 'TaskC_Input', 'ExecutionTime': '3'}} \n",
      "\n",
      "parent task M1A_Workflow.FlowA.TaskC \n",
      " {'Type': 'Task', 'Function': 'TimeFunction', 'Inputs': {'FunctionInput': 'TaskC_Input', 'ExecutionTime': '3'}}\n",
      "vars string TaskD {'Type': 'Task', 'Function': 'TimeFunction', 'Inputs': {'FunctionInput': 'TaskD_Input', 'ExecutionTime': '4'}} \n",
      "\n",
      "parent task M1A_Workflow.FlowA.TaskD \n",
      " {'Type': 'Task', 'Function': 'TimeFunction', 'Inputs': {'FunctionInput': 'TaskD_Input', 'ExecutionTime': '4'}}\n"
     ]
    }
   ],
   "source": [
    "main_task=data[list(data.keys())[0]] \n",
    "if(main_task['Execution']=='Sequential'):\n",
    "    seq(main_task,list(data.keys())[0])\n",
    "#elif(main_tasl['Execution']=='Co')\n",
    "  \n",
    "    "
   ]
  },
  {
   "cell_type": "code",
   "execution_count": null,
   "metadata": {},
   "outputs": [],
   "source": []
  }
 ],
 "metadata": {
  "interpreter": {
   "hash": "916dbcbb3f70747c44a77c7bcd40155683ae19c65e1c03b4aa3499c5328201f1"
  },
  "kernelspec": {
   "display_name": "Python 3.9.7 64-bit",
   "language": "python",
   "name": "python3"
  },
  "language_info": {
   "codemirror_mode": {
    "name": "ipython",
    "version": 3
   },
   "file_extension": ".py",
   "mimetype": "text/x-python",
   "name": "python",
   "nbconvert_exporter": "python",
   "pygments_lexer": "ipython3",
   "version": "3.9.7"
  },
  "orig_nbformat": 4
 },
 "nbformat": 4,
 "nbformat_minor": 2
}

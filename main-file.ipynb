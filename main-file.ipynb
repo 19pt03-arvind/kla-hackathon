{
 "cells": [
  {
   "cell_type": "markdown",
   "metadata": {},
   "source": [
    "### KLA HACKATHON\n"
   ]
  },
  {
   "cell_type": "markdown",
   "metadata": {},
   "source": [
    "#### Milestone 1\n"
   ]
  },
  {
   "cell_type": "code",
   "execution_count": 20,
   "metadata": {},
   "outputs": [
    {
     "name": "stdout",
     "output_type": "stream",
     "text": [
      "{'M1B_Workflow': {'Type': 'Flow', 'Execution': 'Sequential', 'Activities': {'TaskA': {'Type': 'Task', 'Function': 'TimeFunction', 'Inputs': {'FunctionInput': 'TaskA_Input', 'ExecutionTime': '1'}}, 'FlowA': {'Type': 'Flow', 'Execution': 'Concurrent', 'Activities': {'TaskB': {'Type': 'Task', 'Function': 'TimeFunction', 'Inputs': {'FunctionInput': 'TaskB_Input', 'ExecutionTime': '14'}}, 'TaskC': {'Type': 'Task', 'Function': 'TimeFunction', 'Inputs': {'FunctionInput': 'TaskC_Input', 'ExecutionTime': '5'}}, 'TaskD': {'Type': 'Task', 'Function': 'TimeFunction', 'Inputs': {'FunctionInput': 'TaskD_Input', 'ExecutionTime': '5'}}, 'FlowB': {'Type': 'Flow', 'Execution': 'Sequential', 'Activities': {'TaskE': {'Type': 'Task', 'Function': 'TimeFunction', 'Inputs': {'FunctionInput': 'TaskE_Input', 'ExecutionTime': '5'}}, 'TaskF': {'Type': 'Task', 'Function': 'TimeFunction', 'Inputs': {'FunctionInput': 'TaskF_Input', 'ExecutionTime': '1'}}}}, 'FlowC': {'Type': 'Flow', 'Execution': 'Sequential', 'Activities': {'TaskG': {'Type': 'Task', 'Function': 'TimeFunction', 'Inputs': {'FunctionInput': 'TaskG_Input', 'ExecutionTime': '2'}}, 'TaskH': {'Type': 'Task', 'Function': 'TimeFunction', 'Inputs': {'FunctionInput': 'TaskH_Input', 'ExecutionTime': '2'}}}}, 'TaskI': {'Type': 'Task', 'Function': 'TimeFunction', 'Inputs': {'FunctionInput': 'TaskI_Input', 'ExecutionTime': '5'}}}}, 'TaskZ': {'Type': 'Task', 'Function': 'TimeFunction', 'Inputs': {'FunctionInput': 'TaskZ_Input', 'ExecutionTime': '5'}}}}}\n"
     ]
    }
   ],
   "source": [
    "import yaml\n",
    "from yaml.loader import SafeLoader\n",
    "\n",
    "with open('/home/arvindputhucode/Desktop/kla-hackathon-2022/DataSet/Milestone1/Milestone1B.yaml') as f:\n",
    "    data = yaml.load(f, Loader=SafeLoader)\n",
    "    print(data)"
   ]
  },
  {
   "cell_type": "code",
   "execution_count": 21,
   "metadata": {},
   "outputs": [],
   "source": [
    "import datetime\n",
    "import time\n",
    "\n"
   ]
  },
  {
   "cell_type": "code",
   "execution_count": 22,
   "metadata": {},
   "outputs": [],
   "source": [
    "def file_write(text):\n",
    "    with open('/home/arvindputhucode/Desktop/kla-hackathon-2022/1b_output.txt','a') as f:\n",
    "        f.write(text)\n",
    "        f.write('\\n')\n",
    "    \n",
    "\n",
    "\n"
   ]
  },
  {
   "cell_type": "code",
   "execution_count": 23,
   "metadata": {},
   "outputs": [],
   "source": [
    "import threading"
   ]
  },
  {
   "cell_type": "code",
   "execution_count": 26,
   "metadata": {},
   "outputs": [],
   "source": [
    "def seq(task,parent_name):\n",
    "   # print('parent task',parent_name,'\\n',task)  \n",
    "        \n",
    "    if(task['Type']=='Task'):\n",
    "        print(f\"{datetime.datetime.now()};{str(parent_name)} Entry\")\n",
    "        file_write(f\"{datetime.datetime.now()};{str(parent_name)} Entry\")\n",
    "        \n",
    "        inps=[]\n",
    "     #   print(\"task\",task['Inputs'],task,'\\n')\n",
    "        for key,val in task['Inputs'].items():\n",
    "            inps.append(val)\n",
    "        inpp=\"(\"\n",
    "        for indx,i in enumerate(inps):\n",
    "            inpp+=i\n",
    "            if(indx!=len(inps)-1):\n",
    "                inpp+=\", \"\n",
    "        inpp+=\")\"\n",
    "\n",
    "        file_write(f\"{datetime.datetime.now()};{str(parent_name)} Executing {task['Function']} {inpp}\")\n",
    "\n",
    "        if(task['Function']=='TimeFunction'):\n",
    "            \n",
    "            time.sleep(int(task['Inputs']['ExecutionTime']))\n",
    "        file_write(f\"{datetime.datetime.now()};{str(parent_name)} Exit\")\n",
    "\n",
    "        \n",
    "    else:     \n",
    "    \n",
    "        file_write(f\"{datetime.datetime.now()};{str(parent_name)} Entry\")\n",
    "        Lthreads=[]\n",
    "        if(task['Execution']=='Concurrent'):\n",
    "            print('hello',parent_name)\n",
    "            for vars in task['Activities']:\n",
    "                t=threading.Thread(target=seq,args=(task['Activities'][vars],parent_name+'.'+vars))\n",
    "                Lthreads.append(t)\n",
    "            for thread in Lthreads:\n",
    "                thread.start()\n",
    "            for thread in Lthreads:\n",
    "                thread.join()\n",
    "        else: \n",
    "            for vars in task['Activities']:\n",
    "        #    print('vars string',vars,task['Activities'][vars],'\\n')\n",
    "                seq(task=task['Activities'][vars],parent_name=parent_name+'.'+vars)\n",
    "                print('hi in seq',f\"{datetime.datetime.now()};{str(parent_name)} Exit\")\n",
    "        print(f\"{datetime.datetime.now()};{str(parent_name)} Exit\")\n",
    "        file_write(f\"{datetime.datetime.now()};{str(parent_name)} Exit\")"
   ]
  },
  {
   "cell_type": "code",
   "execution_count": 27,
   "metadata": {},
   "outputs": [
    {
     "name": "stdout",
     "output_type": "stream",
     "text": [
      "2022-03-08 12:48:20.334633;M1B_Workflow.TaskA Entry\n",
      "hi in seq 2022-03-08 12:48:21.336293;M1B_Workflow Exit\n",
      "hello M1B_Workflow.FlowA\n",
      "2022-03-08 12:48:21.336927;M1B_Workflow.FlowA.TaskB Entry\n",
      "2022-03-08 12:48:21.338217;M1B_Workflow.FlowA.TaskC Entry\n",
      "2022-03-08 12:48:21.339705;M1B_Workflow.FlowA.TaskD Entry\n",
      "2022-03-08 12:48:21.341832;M1B_Workflow.FlowA.FlowB.TaskE Entry\n",
      "2022-03-08 12:48:21.342993;M1B_Workflow.FlowA.TaskI Entry\n",
      "2022-03-08 12:48:21.343171;M1B_Workflow.FlowA.FlowC.TaskG Entry\n",
      "hi in seq 2022-03-08 12:48:23.345845;M1B_Workflow.FlowA.FlowC Exit\n",
      "2022-03-08 12:48:23.346350;M1B_Workflow.FlowA.FlowC.TaskH Entry\n",
      "hi in seq 2022-03-08 12:48:25.349033;M1B_Workflow.FlowA.FlowC Exit\n",
      "2022-03-08 12:48:25.349954;M1B_Workflow.FlowA.FlowC Exit\n",
      "hi in seq 2022-03-08 12:48:26.349266;M1B_Workflow.FlowA.FlowB Exit\n",
      "2022-03-08 12:48:26.349814;M1B_Workflow.FlowA.FlowB.TaskF Entry\n",
      "hi in seq 2022-03-08 12:48:27.351239;M1B_Workflow.FlowA.FlowB Exit\n",
      "2022-03-08 12:48:27.351353;M1B_Workflow.FlowA.FlowB Exit\n",
      "2022-03-08 12:48:35.349868;M1B_Workflow.FlowA Exit\n",
      "hi in seq 2022-03-08 12:48:35.350358;M1B_Workflow Exit\n",
      "2022-03-08 12:48:35.350404;M1B_Workflow.TaskZ Entry\n",
      "hi in seq 2022-03-08 12:48:40.355221;M1B_Workflow Exit\n",
      "2022-03-08 12:48:40.355719;M1B_Workflow Exit\n"
     ]
    }
   ],
   "source": [
    "main_task=data[list(data.keys())[0]] \n",
    "seq(main_task,list(data.keys())[0])\n",
    "\n",
    "    "
   ]
  },
  {
   "cell_type": "code",
   "execution_count": null,
   "metadata": {},
   "outputs": [],
   "source": []
  }
 ],
 "metadata": {
  "interpreter": {
   "hash": "916dbcbb3f70747c44a77c7bcd40155683ae19c65e1c03b4aa3499c5328201f1"
  },
  "kernelspec": {
   "display_name": "Python 3.9.7 64-bit",
   "language": "python",
   "name": "python3"
  },
  "language_info": {
   "codemirror_mode": {
    "name": "ipython",
    "version": 3
   },
   "file_extension": ".py",
   "mimetype": "text/x-python",
   "name": "python",
   "nbconvert_exporter": "python",
   "pygments_lexer": "ipython3",
   "version": "3.9.7"
  },
  "orig_nbformat": 4
 },
 "nbformat": 4,
 "nbformat_minor": 2
}

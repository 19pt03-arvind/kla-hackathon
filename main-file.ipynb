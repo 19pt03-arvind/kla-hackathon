{
 "cells": [
  {
   "cell_type": "markdown",
   "metadata": {},
   "source": [
    "### KLA HACKATHON\n"
   ]
  },
  {
   "cell_type": "markdown",
   "metadata": {},
   "source": [
    "#### Milestone 1\n"
   ]
  },
  {
   "cell_type": "code",
   "execution_count": 73,
   "metadata": {},
   "outputs": [
    {
     "name": "stdout",
     "output_type": "stream",
     "text": [
      "{'M2B_Workflow': {'Type': 'Flow', 'Execution': 'Sequential', 'Activities': {'TaskA': {'Type': 'Task', 'Function': 'DataLoad', 'Inputs': {'Filename': 'Milestone2B_DataInput1.csv'}, 'Outputs': ['DataTable', 'NoOfDefects']}, 'FlowA': {'Type': 'Flow', 'Execution': 'Concurrent', 'Activities': {'TaskB': {'Type': 'Task', 'Function': 'TimeFunction', 'Condition': '$(M2B_Workflow.TaskA.NoOfDefects) > 0', 'Inputs': {'FunctionInput': 'TaskB_Input', 'ExecutionTime': '16'}}, 'TaskC': {'Type': 'Task', 'Function': 'DataLoad', 'Inputs': {'Filename': 'Milestone2B_DataInput1.csv'}, 'Outputs': ['DataTable', 'NoOfDefects']}, 'TaskD': {'Type': 'Task', 'Function': 'TimeFunction', 'Condition': '$(M2B_Workflow.TaskA.NoOfDefects) < 10', 'Inputs': {'FunctionInput': 'TaskD_Input', 'ExecutionTime': '5'}}, 'FlowB': {'Type': 'Flow', 'Execution': 'Sequential', 'Activities': {'TaskE': {'Type': 'Task', 'Function': 'DataLoad', 'Inputs': {'Filename': 'Milestone2B_DataInput2.csv'}, 'Outputs': ['DataTable', 'NoOfDefects']}, 'TaskF': {'Type': 'Task', 'Function': 'TimeFunction', 'Inputs': {'FunctionInput': '$(M2B_Workflow.FlowA.FlowB.TaskE.NoOfDefects)', 'ExecutionTime': '5'}}}}, 'FlowC': {'Type': 'Flow', 'Execution': 'Sequential', 'Activities': {'TaskG': {'Type': 'Task', 'Function': 'TimeFunction', 'Inputs': {'FunctionInput': 'TaskG_Input', 'ExecutionTime': '0'}}, 'TaskH': {'Type': 'Task', 'Function': 'TimeFunction', 'Inputs': {'FunctionInput': 'TaskH_Input', 'ExecutionTime': '0'}}}}, 'TaskI': {'Type': 'Task', 'Function': 'TimeFunction', 'Condition': '$(M2B_Workflow.FlowA.TaskC.NoOfDefects) > 10', 'Inputs': {'FunctionInput': '$(M2B_Workflow.FlowA.TaskC.NoOfDefects)', 'ExecutionTime': '5'}}}}, 'FlowD': {'Type': 'Flow', 'Execution': 'Concurrent', 'Activities': {'TaskJ': {'Type': 'Task', 'Function': 'TimeFunction', 'Condition': '$(M2B_Workflow.FlowA.FlowB.TaskE.NoOfDefects) > 0', 'Inputs': {'FunctionInput': 'TaskJ_Input', 'ExecutionTime': '1'}}, 'TaskZ': {'Type': 'Task', 'Function': 'TimeFunction', 'Inputs': {'FunctionInput': '$(M2B_Workflow.TaskA.NoOfDefects)', 'ExecutionTime': '2'}}}}}}}\n"
     ]
    }
   ],
   "source": [
    "import yaml\n",
    "from yaml.loader import SafeLoader\n",
    "\n",
    "with open('/home/arvindputhucode/Desktop/kla-hackathon-2022/DataSet/Milestone2/Milestone2B.yaml') as f:\n",
    "    data = yaml.load(f, Loader=SafeLoader)\n",
    "    print(data)"
   ]
  },
  {
   "cell_type": "code",
   "execution_count": 74,
   "metadata": {},
   "outputs": [],
   "source": [
    "import datetime\n",
    "import time\n",
    "\n"
   ]
  },
  {
   "cell_type": "code",
   "execution_count": 75,
   "metadata": {},
   "outputs": [],
   "source": [
    "def file_write(text):\n",
    "    with open('/home/arvindputhucode/Desktop/kla-hackathon-2022/2b_output.txt','a') as f:\n",
    "        f.write(text)\n",
    "        f.write('\\n')\n",
    "    \n",
    "\n",
    "\n"
   ]
  },
  {
   "cell_type": "code",
   "execution_count": 76,
   "metadata": {},
   "outputs": [],
   "source": [
    "import threading"
   ]
  },
  {
   "cell_type": "code",
   "execution_count": 77,
   "metadata": {},
   "outputs": [],
   "source": [
    "# def seq(task,parent_name):\n",
    "#    # print('parent task',parent_name,'\\n',task)  \n",
    "        \n",
    "#     if(task['Type']=='Task'):\n",
    "#         #print(f\"{datetime.datetime.now()};{str(parent_name)} Entry\")\n",
    "#         file_write(f\"{datetime.datetime.now()};{str(parent_name)} Entry\")\n",
    "        \n",
    "#         inps=[]\n",
    "#      #   print(\"task\",task['Inputs'],task,'\\n')\n",
    "#         for key,val in task['Inputs'].items():\n",
    "#             inps.append(val)\n",
    "#         inpp=\"(\"\n",
    "#         for indx,i in enumerate(inps):\n",
    "#             inpp+=i\n",
    "#             if(indx!=len(inps)-1):\n",
    "#                 inpp+=\", \"\n",
    "#         inpp+=\")\"\n",
    "      \n",
    "        \n",
    "#         file_write(f\"{datetime.datetime.now()};{str(parent_name)} Executing {task['Function']} {inpp}\")\n",
    "        \n",
    "#         if(task['Function']=='TimeFunction'):\n",
    "            \n",
    "#             time.sleep(int(task['Inputs']['ExecutionTime']))\n",
    "#         file_write(f\"{datetime.datetime.now()};{str(parent_name)} Exit\")\n",
    "\n",
    "        \n",
    "#     else:     \n",
    "    \n",
    "#         file_write(f\"{datetime.datetime.now()};{str(parent_name)} Entry\")\n",
    "#         Lthreads=[]\n",
    "#         if(task['Execution']=='Concurrent'):\n",
    "#      #       print('hello',parent_name)\n",
    "#             for vars in task['Activities']:\n",
    "#                 t=threading.Thread(target=seq,args=(task['Activities'][vars],parent_name+'.'+vars))\n",
    "#                 Lthreads.append(t)\n",
    "#             for thread in Lthreads:\n",
    "#                 thread.start()\n",
    "#             for thread in Lthreads:\n",
    "#                 thread.join()\n",
    "#         else: \n",
    "#             for vars in task['Activities']:\n",
    "#         #    print('vars string',vars,task['Activities'][vars],'\\n')\n",
    "#                 seq(task=task['Activities'][vars],parent_name=parent_name+'.'+vars)\n",
    "#       #          print('hi in seq',f\"{datetime.datetime.now()};{str(parent_name)} Exit\")\n",
    "#         print(f\"{datetime.datetime.now()};{str(parent_name)} Exit\")\n",
    "#         file_write(f\"{datetime.datetime.now()};{str(parent_name)} Exit\")"
   ]
  },
  {
   "cell_type": "code",
   "execution_count": 78,
   "metadata": {},
   "outputs": [],
   "source": [
    "# main_task=data[list(data.keys())[0]] \n",
    "# seq(main_task,list(data.keys())[0])\n",
    "\n",
    "    "
   ]
  },
  {
   "cell_type": "markdown",
   "metadata": {},
   "source": [
    "### Milestone 2\n"
   ]
  },
  {
   "cell_type": "code",
   "execution_count": 79,
   "metadata": {},
   "outputs": [],
   "source": [
    "import pandas as pd"
   ]
  },
  {
   "cell_type": "code",
   "execution_count": 80,
   "metadata": {},
   "outputs": [],
   "source": [
    "# dictionary pair of (str: dataload list)\n",
    "from collections import defaultdict\n",
    "data_dict={}"
   ]
  },
  {
   "cell_type": "code",
   "execution_count": 81,
   "metadata": {},
   "outputs": [],
   "source": [
    "def dataload(name,task):\n",
    "    t=task['Inputs']['Filename']\n",
    "    data=pd.read_csv('/home/arvindputhucode/Desktop/kla-hackathon-2022/DataSet/Milestone2/'+t)\n",
    "    data_dict[name+'.NoOfDefects']=[data,len(data)]\n",
    "    return [data,len(data)]\n",
    "    \n",
    "    \n",
    "    "
   ]
  },
  {
   "cell_type": "code",
   "execution_count": 88,
   "metadata": {},
   "outputs": [],
   "source": [
    "def seq(task,parent_name):\n",
    "   # print('parent task',parent_name,'\\n',task)  \n",
    "  #  print(data_dict.keys(),\"dictionary\",parent_name)\n",
    "        \n",
    "    if(task['Type']=='Task'):\n",
    "        #print(f\"{datetime.datetime.now()};{str(parent_name)} Entry\")\n",
    "      #  print('hi task')\n",
    "        file_write(f\"{datetime.datetime.now()};{str(parent_name)} Entry\")\n",
    "        \n",
    "        inps=[]\n",
    "     #   print(\"task\",task['Inputs'],task,'\\n')\n",
    "        \n",
    "        for key,val in task['Inputs'].items():\n",
    "            if(val[0]=='$'):\n",
    "                print(val)\n",
    "                string_check=\"\"\n",
    "                for i in val[2:]:\n",
    "                    if i==')':\n",
    "                        break\n",
    "                    else:\n",
    "                        string_check+=i\n",
    "                print(string_check,\"string check\",\"hey\",data_dict.get(string_check)[1]\n",
    "                inps.append(data_dict.get(string_check)[1])\n",
    "            else:\n",
    "                inps.append(val)\n",
    "        \n",
    "        inpp=\"(\"\n",
    "        for indx,i in enumerate(inps):\n",
    "            inpp+=i\n",
    "            if(indx!=len(inps)-1):\n",
    "                inpp+=\", \"\n",
    "        inpp+=\")\"\n",
    "        \n",
    "        if(task['Function']=='DataLoad'):\n",
    "            dataload(parent_name,task)\n",
    "        #    file_write(f\"{datetime.datetime.now()};{str(parent_name)} Executing {task['Function']} {inpp}\")\n",
    "        flagv=0\n",
    "        gt=0\n",
    "        if(task.get('Condition')!=None):\n",
    "            cond=task['Condition']\n",
    "            #print('condition is:',cond)\n",
    "\n",
    "            flagv=1\n",
    "            cond_updated=\"\"\n",
    "            for i in cond[2:]:\n",
    "                if(i==')'):\n",
    "                    break\n",
    "                else:\n",
    "                    cond_updated+=i\n",
    "            num=\"\"\n",
    "            for i in range(len(cond)):\n",
    "                if(cond[i]=='>' or cond[i]=='<'):\n",
    "                    ins=i\n",
    "                if(cond[i]=='>'):\n",
    "                    gt=1\n",
    "            \n",
    "            for ii in cond[ins+1:]:\n",
    "                if(ord(ii)>=ord('0') and ord(ii)<=ord('9')):\n",
    "                    num+=ii\n",
    "           #     print(num)\n",
    "            no=int(num)\n",
    "            #print('condition is:',num,gt,no,cond)\n",
    "           # print(data_dict.get(cond_updated))\n",
    "            #print('dict',data_dict)\n",
    "            while(data_dict.get(cond_updated)==None):\n",
    "             #   print('waiting for data\\n')\n",
    "                continue\n",
    "            if(gt==1):\n",
    "                if(len(data_dict[cond_updated][0])>no):\n",
    "                   # print('hettt')\n",
    "                    file_write(f\"{datetime.datetime.now()};{str(parent_name)} Executing {task['Function']} {inpp}\")\n",
    "                else:\n",
    "                  #  print('skip')\n",
    "                    file_write(f\"{datetime.datetime.now()};{str(parent_name)} Skipped\")\n",
    "\n",
    "            else:\n",
    "                if(data_dict[cond_updated][1]<no):\n",
    "                 #   print('dfsdf')\n",
    "                    file_write(f\"{datetime.datetime.now()};{str(parent_name)} Executing {task['Function']} {inpp}\")\n",
    "                else:\n",
    "                #    print('skkipp2')\n",
    "                    file_write(f\"{datetime.datetime.now()};{str(parent_name)} Skipped \")\n",
    "           # time.sleep(1)\n",
    "        \n",
    "        if(flagv==0):\n",
    "            file_write(f\"{datetime.datetime.now()};{str(parent_name)} Executing {task['Function']} {inpp}\")\n",
    "        \n",
    "        if(task['Function']=='TimeFunction'):\n",
    "            \n",
    "            time.sleep(int(task['Inputs']['ExecutionTime']))\n",
    "        file_write(f\"{datetime.datetime.now()};{str(parent_name)} Exit\")\n",
    "\n",
    "        \n",
    "    else:     \n",
    "        \n",
    "        file_write(f\"{datetime.datetime.now()};{str(parent_name)} Entry\")\n",
    "        Lthreads=[]\n",
    "        if(task['Execution']=='Concurrent'):\n",
    "     #       print('hello',parent_name)\n",
    "            for vars in task['Activities']:\n",
    "                t=threading.Thread(target=seq,args=(task['Activities'][vars],parent_name+'.'+vars))\n",
    "                Lthreads.append(t)\n",
    "            for thread in Lthreads:\n",
    "                thread.start()\n",
    "            for thread in Lthreads:\n",
    "                thread.join()\n",
    "        else: \n",
    "            for vars in task['Activities']:\n",
    "        #    print('vars string',vars,task['Activities'][vars],'\\n')\n",
    "                seq(task=task['Activities'][vars],parent_name=parent_name+'.'+vars)\n",
    "      #          print('hi in seq',f\"{datetime.datetime.now()};{str(parent_name)} Exit\")\n",
    "     #   print(f\"{datetime.datetime.now()};{str(parent_name)} Exit\")\n",
    "        file_write(f\"{datetime.datetime.now()};{str(parent_name)} Exit\")"
   ]
  },
  {
   "cell_type": "code",
   "execution_count": 89,
   "metadata": {},
   "outputs": [
    {
     "name": "stdout",
     "output_type": "stream",
     "text": [
      "$(M2B_Workflow.FlowA.TaskC.NoOfDefects)\n",
      "$(M2B_Workflow.FlowA.FlowB.TaskE.NoOfDefects)\n",
      "$(M2B_Workflow.TaskA.NoOfDefects)\n"
     ]
    }
   ],
   "source": [
    "main_task=data[list(data.keys())[0]] \n",
    "seq(main_task,list(data.keys())[0])"
   ]
  },
  {
   "cell_type": "code",
   "execution_count": 84,
   "metadata": {},
   "outputs": [],
   "source": [
    "\n",
    "# main_task=data[list(data.keys())[0]] \n",
    "# if(main_task['Execution']=='Sequential'):\n",
    "#     bseq(main_task,list(data.keys())[0])\n",
    "# #elif(main_tasl['Execution']=='Co')"
   ]
  },
  {
   "cell_type": "code",
   "execution_count": 85,
   "metadata": {},
   "outputs": [
    {
     "data": {
      "text/plain": [
       "{'M2B_Workflow.TaskA.NoOfDefects': [    ID    X    Y  Signal\n",
       "  0    1  212  149     243\n",
       "  1    2  212  202      20\n",
       "  2    3  212  220      20\n",
       "  3    4  212  245      20\n",
       "  4    5  213 -293      83\n",
       "  5    6  213 -292      83\n",
       "  6    7  213 -290      83\n",
       "  7    8  213 -173      74\n",
       "  8    9  213 -169      74\n",
       "  9   10  213   88     243\n",
       "  10  11  213   89     243\n",
       "  11  12  213   98     116\n",
       "  12  13  213  116      70\n",
       "  13  14  213  117      70\n",
       "  14  15  213  124     206\n",
       "  15  16  213  157      20\n",
       "  16  17  213  158      20\n",
       "  17  18  213  162      20\n",
       "  18  19  213  202      20\n",
       "  19  20  213  245      20\n",
       "  20  21  214 -259      83\n",
       "  21  22  214 -227     243\n",
       "  22  23  214  -11      74\n",
       "  23  24  214   -5      74,\n",
       "  24],\n",
       " 'M2B_Workflow.FlowA.FlowB.TaskE.NoOfDefects': [    ID    X    Y  Signal\n",
       "  0    1  212  149     243\n",
       "  1    2  212  202      20\n",
       "  2    3  212  220      20\n",
       "  3    4  212  245      20\n",
       "  4    5  213 -293      83\n",
       "  5    6  213 -292      83\n",
       "  6    7  213 -290      83\n",
       "  7    8  213 -173      74\n",
       "  8    9  213 -169      74\n",
       "  9   10  213   88     243\n",
       "  10  11  213   89     243\n",
       "  11  12  213   98     116\n",
       "  12  13  213  116      70\n",
       "  13  14  213  117      70\n",
       "  14  15  213  124     206\n",
       "  15  16  213  157      20\n",
       "  16  17  213  158      20\n",
       "  17  18  213  162      20\n",
       "  18  19  213  202      20\n",
       "  19  20  213  245      20\n",
       "  20  21  214 -259      83\n",
       "  21  22  214 -227     243\n",
       "  22  23  214  -11      74\n",
       "  23  24  214   -5      74\n",
       "  24  25  214   82      50\n",
       "  25  26  214  116      70\n",
       "  26  27  214  125     206\n",
       "  27  28  214  128     206\n",
       "  28  29  215 -290      83\n",
       "  29  30  215 -271      50\n",
       "  30  31  215 -172     179\n",
       "  31  32  215 -171     179\n",
       "  32  33  215 -170     179\n",
       "  33  34  215   66     100\n",
       "  34  35  215   96     116\n",
       "  35  36  215   98     116\n",
       "  36  37  215   99     116\n",
       "  37  38  215  114      70\n",
       "  38  39  215  115      70\n",
       "  39  40  215  116      70\n",
       "  40  41  215  165     116\n",
       "  41  42  215  168     116\n",
       "  42  43  216 -259      83\n",
       "  43  44  216 -258      83\n",
       "  44  45  216 -257      83\n",
       "  45  46  216 -256      83\n",
       "  46  47  216 -191     100\n",
       "  47  48  216 -171     179\n",
       "  48  49  216 -118     243,\n",
       "  49],\n",
       " 'M2B_Workflow.FlowA.TaskC.NoOfDefects': [    ID    X    Y  Signal\n",
       "  0    1  212  149     243\n",
       "  1    2  212  202      20\n",
       "  2    3  212  220      20\n",
       "  3    4  212  245      20\n",
       "  4    5  213 -293      83\n",
       "  5    6  213 -292      83\n",
       "  6    7  213 -290      83\n",
       "  7    8  213 -173      74\n",
       "  8    9  213 -169      74\n",
       "  9   10  213   88     243\n",
       "  10  11  213   89     243\n",
       "  11  12  213   98     116\n",
       "  12  13  213  116      70\n",
       "  13  14  213  117      70\n",
       "  14  15  213  124     206\n",
       "  15  16  213  157      20\n",
       "  16  17  213  158      20\n",
       "  17  18  213  162      20\n",
       "  18  19  213  202      20\n",
       "  19  20  213  245      20\n",
       "  20  21  214 -259      83\n",
       "  21  22  214 -227     243\n",
       "  22  23  214  -11      74\n",
       "  23  24  214   -5      74,\n",
       "  24]}"
      ]
     },
     "execution_count": 85,
     "metadata": {},
     "output_type": "execute_result"
    }
   ],
   "source": [
    "data_dict"
   ]
  }
 ],
 "metadata": {
  "interpreter": {
   "hash": "916dbcbb3f70747c44a77c7bcd40155683ae19c65e1c03b4aa3499c5328201f1"
  },
  "kernelspec": {
   "display_name": "Python 3.9.7 64-bit",
   "language": "python",
   "name": "python3"
  },
  "language_info": {
   "codemirror_mode": {
    "name": "ipython",
    "version": 3
   },
   "file_extension": ".py",
   "mimetype": "text/x-python",
   "name": "python",
   "nbconvert_exporter": "python",
   "pygments_lexer": "ipython3",
   "version": "3.9.7"
  },
  "orig_nbformat": 4
 },
 "nbformat": 4,
 "nbformat_minor": 2
}
